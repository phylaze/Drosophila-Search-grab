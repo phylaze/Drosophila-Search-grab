{
 "cells": [
  {
   "cell_type": "code",
   "execution_count": 40,
   "metadata": {},
   "outputs": [],
   "source": [
    "import numpy as np\n",
    "import pandas as pd\n",
    "import requests\n",
    "from requests import get\n",
    "from bs4 import BeautifulSoup as soup\n",
    "from random import randint\n",
    "from time import sleep\n",
    "import re"
   ]
  },
  {
   "cell_type": "code",
   "execution_count": 143,
   "metadata": {
    "scrolled": true
   },
   "outputs": [],
   "source": [
    "# Setup size and page loop\n",
    "pages = np.arange(1,11)\n",
    "\n",
    "# create a storage list\n",
    "Titles = []\n",
    "authors = []\n",
    "year = []\n",
    "\n",
    "# Set up language to English\n",
    "headers = {\"Accept-Language\": \"en-US, en;q=0.5\"}\n",
    "\n",
    "# Loop through the pages\n",
    "for page in pages:\n",
    "    url = (\"https://pubmed.ncbi.nlm.nih.gov/?term=mitochondria&page=\" + str(page) + \"&size=50\")\n",
    "    html = requests.get(url)\n",
    "    html_soup = soup(html.text, \"html.parser\")\n",
    "    html_article = html_soup.find_all(\"div\", {\"class\":\"docsum-content\"})\n",
    "    \n",
    "    sleep(randint(2,10))\n",
    "    \n",
    "    #loop through to html to find the information of interest\n",
    "    for article in html_article:\n",
    "        title = article.find(\"a\", {\"class\":\"labs-docsum-title\"}).text.strip()\n",
    "        Titles.append(title)\n",
    "            \n",
    "        author = article.find(\"span\", {\"class\":\"labs-docsum-authors full-authors\"}).text.strip()\n",
    "        authors.append(author)\n",
    "            \n",
    "            #find the year of publication for each article\n",
    "        yr = article.find(\"span\", {\"class\":\"labs-docsum-journal-citation short-journal-citation\"}).text\n",
    "        yr_yr = re.findall(\" [\\d]*\\d\", yr)\n",
    "        str1 = ''.join(str(e) for e in yr_yr)\n",
    "        year.append(str1)\n",
    "        \n",
    "fff = pd.DataFrame({\n",
    "    \"Title\":Titles,\n",
    "    \"Authors\":authors,\n",
    "    \"Year\": year\n",
    "})\n",
    "\n",
    "fff[\"Year\"] = fff[\"Year\"].str.extract('(\\d+)').astype(int)\n",
    "\n",
    "#print(fff)\n",
    "fff.to_csv(\"dros.csv\")"
   ]
  }
 ],
 "metadata": {
  "kernelspec": {
   "display_name": "Python 3",
   "language": "python",
   "name": "python3"
  },
  "language_info": {
   "codemirror_mode": {
    "name": "ipython",
    "version": 3
   },
   "file_extension": ".py",
   "mimetype": "text/x-python",
   "name": "python",
   "nbconvert_exporter": "python",
   "pygments_lexer": "ipython3",
   "version": "3.7.1"
  }
 },
 "nbformat": 4,
 "nbformat_minor": 2
}
